{
 "cells": [
  {
   "cell_type": "code",
   "execution_count": 4,
   "metadata": {},
   "outputs": [],
   "source": [
    "import pandas as pd\n",
    "import ast\n",
    "import json\n"
   ]
  },
  {
   "cell_type": "code",
   "execution_count": 5,
   "metadata": {},
   "outputs": [],
   "source": [
    "# Load your CSV\n",
    "df = pd.read_csv(r\"C:\\Users\\Musae\\Documents\\GitHub-REPOs\\Crop-Classifier-From-Space\\CIV_Crop_Sample_Points.csv\")\n",
    "\n",
    "# Parse coordinates\n",
    "df[['lon', 'lat']] = df['.geo'].apply(lambda g: pd.Series(json.loads(g)['coordinates']))\n",
    "\n",
    "# Drop extra and relabel\n",
    "df = df[['classification', 'lon', 'lat']]\n",
    "df['crop'] = df['classification'].map({9: 'cocoa', 10: 'rubber', 11: 'oil_palm'})\n",
    "\n",
    "# Save cleaned CSV\n",
    "df.to_csv(\"cleaned_crop_points.csv\", index=False)"
   ]
  },
  {
   "cell_type": "code",
   "execution_count": null,
   "metadata": {},
   "outputs": [],
   "source": []
  }
 ],
 "metadata": {
  "kernelspec": {
   "display_name": "base",
   "language": "python",
   "name": "python3"
  },
  "language_info": {
   "codemirror_mode": {
    "name": "ipython",
    "version": 3
   },
   "file_extension": ".py",
   "mimetype": "text/x-python",
   "name": "python",
   "nbconvert_exporter": "python",
   "pygments_lexer": "ipython3",
   "version": "3.12.7"
  }
 },
 "nbformat": 4,
 "nbformat_minor": 2
}
